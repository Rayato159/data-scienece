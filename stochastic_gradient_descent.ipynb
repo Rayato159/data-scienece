{
 "cells": [
  {
   "cell_type": "code",
   "execution_count": null,
   "id": "d7db4966-6e7e-46b9-b540-8632d1e0a8de",
   "metadata": {},
   "outputs": [],
   "source": [
    "train_x = [14, 17, 20]\n",
    "train_y = [220, 240, 300]"
   ]
  },
  {
   "cell_type": "code",
   "execution_count": null,
   "id": "91d3e75c-eba0-4859-bf2b-d76008921988",
   "metadata": {},
   "outputs": [],
   "source": [
    "import matplotlib.pyplot as plt\n",
    "import numpy as np\n",
    "from numpy.random import normal"
   ]
  },
  {
   "cell_type": "code",
   "execution_count": null,
   "id": "6b6172a1-798f-4bc1-97e4-fde8921997b7",
   "metadata": {},
   "outputs": [],
   "source": [
    "slope = 10.5\n",
    "y_intercept = 20.3\n",
    "\n",
    "print(f\"(slope: {slope}, y_intercept: {y_intercept})\")"
   ]
  },
  {
   "cell_type": "code",
   "execution_count": null,
   "id": "a8278dc1-473e-4810-802d-24f39eeba348",
   "metadata": {},
   "outputs": [],
   "source": [
    "def visualize_linear_regression(ax, title, x, y, train_x, train_y):\n",
    "    ax.scatter(train_x, train_y, c=\"#41B06E\")\n",
    "    ax.set(ylim=[0, 500], xlim=[0, 30])\n",
    "    ax.plot(x, y)\n",
    "    ax.set_xlabel('x')\n",
    "    ax.set_ylabel('y')\n",
    "    ax.set_title(title)"
   ]
  },
  {
   "cell_type": "code",
   "execution_count": null,
   "id": "1cf402e4-b0e2-4e86-8359-9973f61f265e",
   "metadata": {},
   "outputs": [],
   "source": [
    "def linear_regression(x, slope, y_intercept):\n",
    "    return x * slope + y_intercept"
   ]
  },
  {
   "cell_type": "code",
   "execution_count": null,
   "id": "c8f5b2e6-d8e2-48e6-99f9-a815e489f7f0",
   "metadata": {
    "scrolled": true
   },
   "outputs": [],
   "source": [
    "x = np.linspace(0., 300, 5)\n",
    "y = linear_regression(x, slope, y_intercept)\n",
    "\n",
    "fig, ax = plt.subplots()\n",
    "visualize_linear_regression(ax, 'train_data', x, y, train_x, train_y)"
   ]
  },
  {
   "cell_type": "code",
   "execution_count": null,
   "id": "123ca304-439d-43d4-9916-75823261c817",
   "metadata": {},
   "outputs": [],
   "source": [
    "def sse(y, y_hat):\n",
    "    return (y - y_hat)**2"
   ]
  },
  {
   "cell_type": "code",
   "execution_count": null,
   "id": "612d5621-68e6-4100-94c0-eb5917a88404",
   "metadata": {},
   "outputs": [],
   "source": [
    "def derivative_slope(f, x, slope, y_intercept, y, y_hat, dx = 0.000001):\n",
    "    return (f(y, y_hat(x, slope, y_intercept)) - f(y, y_hat(x, slope + dx, y_intercept)))/(slope - (slope + dx))"
   ]
  },
  {
   "cell_type": "code",
   "execution_count": null,
   "id": "badbd39b-3604-4f43-a5f6-526b9baf8676",
   "metadata": {},
   "outputs": [],
   "source": [
    "def derivative_y_intercept(f, x, slope, y_intercept, y, y_hat, dx = 0.000001):\n",
    "    return (f(y, y_hat(x, slope, y_intercept)) - f(y, y_hat(x, slope, y_intercept + dx)))/(y_intercept - ( y_intercept + dx))"
   ]
  },
  {
   "cell_type": "code",
   "execution_count": null,
   "id": "b8e08d0d-3672-4fbd-8a64-f507217be55b",
   "metadata": {},
   "outputs": [],
   "source": [
    "def step_size(f, train_x, slope, train_y, learning_rate = 0.001):\n",
    "    d_slope = 0.\n",
    "    d_y_intercept = 0.\n",
    "\n",
    "    train_data = zip(train_x, train_y)\n",
    "    \n",
    "    for x, y in train_data:\n",
    "        d_slope += derivative_slope(f, x, slope, y_intercept, y, linear_regression)\n",
    "        d_y_intercept += derivative_y_intercept(f, x, slope, y_intercept, y, linear_regression)\n",
    "    \n",
    "    return (learning_rate * d_slope, learning_rate * d_y_intercept)"
   ]
  },
  {
   "cell_type": "code",
   "execution_count": null,
   "id": "1affa8ae-e928-4430-a5fb-e747a3bfe8e4",
   "metadata": {},
   "outputs": [],
   "source": [
    "slope_stack = []\n",
    "y_intercept_stack = []\n",
    "\n",
    "slope_step_size = 0.\n",
    "y_intercept_step_size = 0.\n",
    "\n",
    "batch_size = 1\n",
    "offset = 0\n",
    "index = 0\n",
    "\n",
    "for i in range(100):\n",
    "    new_slope_step_size, new_y_intercept_step_size = step_size(\n",
    "        sse, \n",
    "        train_x[offset:(index - 1)*batch_size], \n",
    "        slope, \n",
    "        train_y[offset:(index - 1)*batch_size],\n",
    "        learning_rate = 0.001,\n",
    "    )\n",
    "\n",
    "    slope_step_size += new_slope_step_size\n",
    "    y_intercept_step_size += new_y_intercept_step_size\n",
    "\n",
    "    slope_new = slope - slope_step_size\n",
    "    y_intercept_new = y_intercept - y_intercept_step_size\n",
    "\n",
    "    slope = slope_new\n",
    "    y_intercept = y_intercept_new\n",
    "\n",
    "    slope_stack.append(slope_new)\n",
    "    y_intercept_stack.append(y_intercept_new)\n",
    "\n",
    "    error_dot_product = np.dot(np.abs(slope_step_size), np.abs(y_intercept_step_size))\n",
    "    if error_dot_product <= 0.000001: break\n",
    "\n",
    "    offset = index*batch_size\n",
    "    if index == len(train_x):\n",
    "        index = 0 \n",
    "    else:\n",
    "        index += 1"
   ]
  },
  {
   "cell_type": "code",
   "execution_count": null,
   "id": "91ee3f53-4749-4ff9-94d3-f68645f658c8",
   "metadata": {
    "scrolled": true
   },
   "outputs": [],
   "source": [
    "y_updated = linear_regression(x, slope, y_intercept)\n",
    "\n",
    "fig, (ax_1, ax_2)  = plt.subplots(nrows=1, ncols=2, figsize=(5, 2.5))\n",
    "visualize_linear_regression(ax_1, 'initialization', x , y, train_x, train_y)\n",
    "visualize_linear_regression(ax_2, 'optimized', x, y_updated, train_x, train_y)\n",
    "fig.tight_layout()"
   ]
  },
  {
   "cell_type": "code",
   "execution_count": null,
   "id": "ab0c75fd-9e14-4f27-9bb8-05e997a33d2a",
   "metadata": {},
   "outputs": [],
   "source": [
    "import matplotlib.animation as animation"
   ]
  },
  {
   "cell_type": "code",
   "execution_count": null,
   "id": "5118e1c3-b239-41c9-9840-7c1f2569a662",
   "metadata": {},
   "outputs": [],
   "source": [
    "fig, ax = plt.subplots()\n",
    "\n",
    "scat = ax.scatter(train_x, train_y, c=\"#41B06E\")\n",
    "line = ax.plot(x, slope_stack[0]*x + y_intercept_stack[0])[0]\n",
    "\n",
    "ax.set(ylim=[0, 500], xlim=[0, 30], xlabel='x', ylabel='y')\n",
    "\n",
    "def update(frame):\n",
    "    line.set_xdata(x)\n",
    "    line.set_ydata(slope_stack[frame]*x + y_intercept_stack[frame])\n",
    "    ax.set_title(f\"y = {slope_stack[frame]:.6f}x + {y_intercept_stack[frame]:.6f}\")\n",
    "    return (scat, line)\n",
    "\n",
    "frames = len(slope_stack)\n",
    "ani = animation.FuncAnimation(fig=fig, func=update, frames=frames, interval=200)\n",
    "\n",
    "from IPython.display import HTML\n",
    "HTML(ani.to_jshtml())"
   ]
  }
 ],
 "metadata": {
  "kernelspec": {
   "display_name": "Python 3 (ipykernel)",
   "language": "python",
   "name": "python3"
  },
  "language_info": {
   "codemirror_mode": {
    "name": "ipython",
    "version": 3
   },
   "file_extension": ".py",
   "mimetype": "text/x-python",
   "name": "python",
   "nbconvert_exporter": "python",
   "pygments_lexer": "ipython3",
   "version": "3.12.2"
  }
 },
 "nbformat": 4,
 "nbformat_minor": 5
}
