{
 "cells": [
  {
   "cell_type": "code",
   "execution_count": 1,
   "id": "52d1b766",
   "metadata": {},
   "outputs": [],
   "source": [
    "import torch\n",
    "import torch.nn as nn\n",
    "import torch.optim as optim\n",
    "from torch.utils.data import TensorDataset, DataLoader\n",
    "import numpy as np"
   ]
  },
  {
   "cell_type": "code",
   "execution_count": 2,
   "id": "d27fc96c",
   "metadata": {},
   "outputs": [
    {
     "name": "stdout",
     "output_type": "stream",
     "text": [
      "Using cuda device\n"
     ]
    }
   ],
   "source": [
    "device = (\"cuda\" if torch.cuda.is_available() else \"cpu\")\n",
    "print(f\"Using {device} device\")"
   ]
  },
  {
   "cell_type": "code",
   "execution_count": 3,
   "id": "6d85055e",
   "metadata": {},
   "outputs": [],
   "source": [
    "training_x = torch.tensor([\n",
    "    [16., 4.],\n",
    "    [1.,  4.],\n",
    "    [16., 3.]\n",
    "])\n",
    "\n",
    "training_y = torch.tensor([\n",
    "    [98.],\n",
    "    [81.],\n",
    "    [26.]\n",
    "])"
   ]
  },
  {
   "cell_type": "code",
   "execution_count": 4,
   "id": "88976f01",
   "metadata": {},
   "outputs": [],
   "source": [
    "testing_x = torch.tensor([\n",
    "    [1., 3.]\n",
    "])\n",
    "\n",
    "testing_y = torch.tensor([\n",
    "    [3.]\n",
    "])"
   ]
  },
  {
   "cell_type": "code",
   "execution_count": 5,
   "id": "401e4976",
   "metadata": {},
   "outputs": [],
   "source": [
    "dataset = TensorDataset(training_x, training_y)\n",
    "train_loader = DataLoader(dataset, batch_size=1, shuffle=True)"
   ]
  },
  {
   "cell_type": "code",
   "execution_count": 6,
   "id": "a70620b7",
   "metadata": {},
   "outputs": [],
   "source": [
    "class ANNModeler(nn.Module):\n",
    "    def __init__(self, input_size, output_size):\n",
    "        super(ANNModeler, self).__init__()\n",
    "        self.linear1 = nn.Linear(input_size, 2, bias=True)\n",
    "        self.linear2 = nn.Linear(2, output_size, bias=True)\n",
    "\n",
    "    def forward(self, x):\n",
    "        out = self.linear1(x)\n",
    "        return self.linear2(out)"
   ]
  },
  {
   "cell_type": "code",
   "execution_count": 7,
   "id": "d24fe92f",
   "metadata": {},
   "outputs": [
    {
     "name": "stdout",
     "output_type": "stream",
     "text": [
      "ANNModeler(\n",
      "  (linear1): Linear(in_features=2, out_features=2, bias=True)\n",
      "  (linear2): Linear(in_features=2, out_features=1, bias=True)\n",
      ")\n"
     ]
    }
   ],
   "source": [
    "losses = []\n",
    "model = ANNModeler(2, 1).to(device)\n",
    "loss_function = nn.MSELoss()\n",
    "optimizer = optim.SGD(model.parameters(), lr=0.000001)\n",
    "\n",
    "print(model)"
   ]
  },
  {
   "cell_type": "code",
   "execution_count": 8,
   "id": "3f68bd9b",
   "metadata": {},
   "outputs": [
    {
     "name": "stderr",
     "output_type": "stream",
     "text": [
      "C:\\Users\\HashTable\\AppData\\Local\\Temp\\ipykernel_18900\\1165227944.py:7: UserWarning: To copy construct from a tensor, it is recommended to use sourceTensor.clone().detach() or sourceTensor.clone().detach().requires_grad_(True), rather than torch.tensor(sourceTensor).\n",
      "  x, y = torch.tensor(x).to(device), torch.tensor(y).to(device)\n"
     ]
    }
   ],
   "source": [
    "epochs = 1000\n",
    "\n",
    "for epoch in range(epochs):\n",
    "    total_loss = 0\n",
    "    \n",
    "    for (x, y) in train_loader:\n",
    "        x, y = torch.tensor(x).to(device), torch.tensor(y).to(device)\n",
    "\n",
    "        model.zero_grad()\n",
    "\n",
    "        y_hat = model(x)\n",
    "\n",
    "        loss = loss_function(y, y_hat)\n",
    "\n",
    "        loss.backward()\n",
    "        optimizer.step()\n",
    "        total_loss += loss.item()\n",
    "        \n",
    "    losses.append(total_loss)"
   ]
  },
  {
   "cell_type": "code",
   "execution_count": 9,
   "id": "8be5b190",
   "metadata": {},
   "outputs": [],
   "source": [
    "import matplotlib.pyplot as plt"
   ]
  },
  {
   "cell_type": "code",
   "execution_count": 10,
   "id": "994990d1",
   "metadata": {},
   "outputs": [],
   "source": [
    "def plot_losses(ax, t, losses):\n",
    "    ax.plot(t, losses)\n",
    "    ax.set_xlabel(\"Epoch\")\n",
    "    ax.set_ylabel(\"Loss\")"
   ]
  },
  {
   "cell_type": "code",
   "execution_count": 11,
   "id": "3541ba36",
   "metadata": {},
   "outputs": [
    {
     "data": {
      "image/png": "[encoded data removed]",
      "text/plain": [
       "<Figure size 640x480 with 1 Axes>"
      ]
     },
     "metadata": {},
     "output_type": "display_data"
    }
   ],
   "source": [
    "fig, ax = plt.subplots()\n",
    "plot_losses(ax, np.linspace(0., len(losses), len(losses)), losses)"
   ]
  },
  {
   "cell_type": "code",
   "execution_count": 12,
   "id": "783469be",
   "metadata": {},
   "outputs": [
    {
     "name": "stdout",
     "output_type": "stream",
     "text": [
      "y_true: 3, y_hat: 11\n"
     ]
    },
    {
     "name": "stderr",
     "output_type": "stream",
     "text": [
      "C:\\Users\\HashTable\\AppData\\Local\\Temp\\ipykernel_18900\\76514697.py:3: UserWarning: To copy construct from a tensor, it is recommended to use sourceTensor.clone().detach() or sourceTensor.clone().detach().requires_grad_(True), rather than torch.tensor(sourceTensor).\n",
      "  pred = model(torch.tensor(x).to(device))\n"
     ]
    }
   ],
   "source": [
    "for x, y in zip(testing_x, testing_y):\n",
    "    # Get predicted vector\n",
    "    pred = model(torch.tensor(x).to(device))\n",
    "\n",
    "    print(f\"y_true: {int(y.item())}, y_hat: {int(pred.item())}\")"
   ]
  }
 ],
 "metadata": {
  "kernelspec": {
   "display_name": "Python 3 (ipykernel)",
   "language": "python",
   "name": "python3"
  },
  "language_info": {
   "codemirror_mode": {
    "name": "ipython",
    "version": 3
   },
   "file_extension": ".py",
   "mimetype": "text/x-python",
   "name": "python",
   "nbconvert_exporter": "python",
   "pygments_lexer": "ipython3",
   "version": "3.12.3"
  }
 },
 "nbformat": 4,
 "nbformat_minor": 5
}
