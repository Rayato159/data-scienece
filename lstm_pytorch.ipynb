{
 "cells": [
  {
   "cell_type": "code",
   "execution_count": 1,
   "id": "52d1b766",
   "metadata": {},
   "outputs": [],
   "source": [
    "import torch\n",
    "import torch.nn as nn\n",
    "import torch.optim as optim\n",
    "from torch.utils.data import TensorDataset, DataLoader\n",
    "import numpy as np"
   ]
  },
  {
   "cell_type": "code",
   "execution_count": 2,
   "id": "d27fc96c",
   "metadata": {},
   "outputs": [
    {
     "name": "stdout",
     "output_type": "stream",
     "text": [
      "Using cuda device\n"
     ]
    }
   ],
   "source": [
    "device = (\"cuda\" if torch.cuda.is_available() else \"cpu\")\n",
    "print(f\"Using {device} device\")"
   ]
  },
  {
   "cell_type": "code",
   "execution_count": 3,
   "id": "6d85055e",
   "metadata": {},
   "outputs": [],
   "source": [
    "training_x = torch.tensor([\n",
    "    [32.],\n",
    "    [37.],\n",
    "    [25.]\n",
    "])\n",
    "\n",
    "training_y = torch.tensor([\n",
    "    [34.],\n",
    "    [36.],\n",
    "    [24.]\n",
    "])"
   ]
  },
  {
   "cell_type": "code",
   "execution_count": 4,
   "id": "88976f01",
   "metadata": {},
   "outputs": [],
   "source": [
    "testing_x = torch.tensor([\n",
    "    [27.],\n",
    "])\n",
    "\n",
    "testing_y = torch.tensor([\n",
    "    [28.]\n",
    "])"
   ]
  },
  {
   "cell_type": "code",
   "execution_count": 5,
   "id": "401e4976",
   "metadata": {},
   "outputs": [],
   "source": [
    "dataset = TensorDataset(training_x, training_y)\n",
    "train_loader = DataLoader(dataset, batch_size=1, shuffle=True)"
   ]
  },
  {
   "cell_type": "code",
   "execution_count": 6,
   "id": "a70620b7",
   "metadata": {},
   "outputs": [],
   "source": [
    "class LSTMModeler(nn.Module):\n",
    "    def __init__(self, input_size, hidden_layer_size, output_size):\n",
    "        super(LSTMModeler, self).__init__()\n",
    "\n",
    "        self.lstm = nn.LSTM(input_size, hidden_layer_size)\n",
    "        self.linear = nn.Linear(hidden_layer_size, output_size)\n",
    "        self.hidden_cell = (torch.zeros(1, 1, hidden_layer_size),\n",
    "                            torch.zeros(1, 1, hidden_layer_size))\n",
    "\n",
    "    def forward(self, x):\n",
    "        lstm_out, self.hidden_cell = self.lstm(x.view(len(x), 1, -1), self.hidden_cell)\n",
    "        out = self.linear(lstm_out.view(len(x), -1))\n",
    "        return out[-1]"
   ]
  },
  {
   "cell_type": "code",
   "execution_count": 7,
   "id": "d24fe92f",
   "metadata": {},
   "outputs": [
    {
     "name": "stderr",
     "output_type": "stream",
     "text": [
      "d:\\anaconda3\\envs\\pytorch-training\\Lib\\site-packages\\tqdm\\auto.py:21: TqdmWarning: IProgress not found. Please update jupyter and ipywidgets. See https://ipywidgets.readthedocs.io/en/stable/user_install.html\n",
      "  from .autonotebook import tqdm as notebook_tqdm\n"
     ]
    },
    {
     "name": "stdout",
     "output_type": "stream",
     "text": [
      "LSTMModeler(\n",
      "  (lstm): LSTM(1, 10)\n",
      "  (linear): Linear(in_features=10, out_features=1, bias=True)\n",
      ")\n"
     ]
    }
   ],
   "source": [
    "losses = []\n",
    "hidden_layer_size = 10\n",
    "input_size = 1\n",
    "output_size = 1\n",
    "model = LSTMModeler(input_size, hidden_layer_size, output_size).to(device)\n",
    "loss_function = nn.MSELoss()\n",
    "optimizer = optim.SGD(model.parameters(), lr=0.001)\n",
    "\n",
    "print(model)"
   ]
  },
  {
   "cell_type": "code",
   "execution_count": 8,
   "id": "3f68bd9b",
   "metadata": {},
   "outputs": [
    {
     "name": "stderr",
     "output_type": "stream",
     "text": [
      "C:\\Users\\HashTable\\AppData\\Local\\Temp\\ipykernel_1336\\2923910748.py:7: UserWarning: To copy construct from a tensor, it is recommended to use sourceTensor.clone().detach() or sourceTensor.clone().detach().requires_grad_(True), rather than torch.tensor(sourceTensor).\n",
      "  x, y = torch.tensor(x).to(device), torch.tensor(y).to(device)\n",
      "d:\\anaconda3\\envs\\pytorch-training\\Lib\\site-packages\\torch\\nn\\modules\\loss.py:535: UserWarning: Using a target size (torch.Size([1])) that is different to the input size (torch.Size([1, 1])). This will likely lead to incorrect results due to broadcasting. Please ensure they have the same size.\n",
      "  return F.mse_loss(input, target, reduction=self.reduction)\n"
     ]
    }
   ],
   "source": [
    "epochs = 100\n",
    "\n",
    "for epoch in range(epochs):\n",
    "    total_loss = 0\n",
    "    \n",
    "    for (x, y) in train_loader:\n",
    "        x, y = torch.tensor(x).to(device), torch.tensor(y).to(device)\n",
    "\n",
    "        model.zero_grad()\n",
    "\n",
    "        model.hidden_cell = (torch.zeros(1, 1, hidden_layer_size).to(device),\n",
    "                             torch.zeros(1, 1, hidden_layer_size).to(device))\n",
    "\n",
    "        y_hat = model(x)\n",
    "\n",
    "        loss = loss_function(y, y_hat)\n",
    "\n",
    "        loss.backward()\n",
    "        optimizer.step()\n",
    "        total_loss += loss.item()\n",
    "        \n",
    "    losses.append(total_loss)"
   ]
  },
  {
   "cell_type": "code",
   "execution_count": 9,
   "id": "994990d1",
   "metadata": {},
   "outputs": [
    {
     "data": {
      "image/png": "[encoded data removed]",
      "text/plain": [
       "<Figure size 640x480 with 1 Axes>"
      ]
     },
     "metadata": {},
     "output_type": "display_data"
    }
   ],
   "source": [
    "import matplotlib.pyplot as plt\n",
    "\n",
    "def plot_losses(ax, t, losses):\n",
    "    ax.plot(t, losses)\n",
    "    ax.set_xlabel(\"Epoch\")\n",
    "    ax.set_ylabel(\"Loss\")\n",
    "\n",
    "fig, ax = plt.subplots()\n",
    "plot_losses(ax, np.linspace(0., len(losses), len(losses)), losses)"
   ]
  },
  {
   "cell_type": "code",
   "execution_count": 10,
   "id": "783469be",
   "metadata": {},
   "outputs": [
    {
     "name": "stdout",
     "output_type": "stream",
     "text": [
      "y_true: 28, y_hat: 25\n"
     ]
    }
   ],
   "source": [
    "for x, y in zip(testing_x, testing_y):\n",
    "    # Get predicted vector\n",
    "    with torch.no_grad():\n",
    "        model.hidden_cell = (torch.zeros(1, 1, hidden_layer_size).to(device),\n",
    "                             torch.zeros(1, 1, hidden_layer_size).to(device))\n",
    "\n",
    "        x = x.view(-1, 1, 1).to(device)  # (sequence_length, batch_size, input_size)\n",
    "        \n",
    "        pred = model(x)\n",
    "\n",
    "    print(f\"y_true: {int(y.item())}, y_hat: {int(pred.item())}\")"
   ]
  }
 ],
 "metadata": {
  "kernelspec": {
   "display_name": "Python 3 (ipykernel)",
   "language": "python",
   "name": "python3"
  },
  "language_info": {
   "codemirror_mode": {
    "name": "ipython",
    "version": 3
   },
   "file_extension": ".py",
   "mimetype": "text/x-python",
   "name": "python",
   "nbconvert_exporter": "python",
   "pygments_lexer": "ipython3",
   "version": "3.12.3"
  }
 },
 "nbformat": 4,
 "nbformat_minor": 5
}
